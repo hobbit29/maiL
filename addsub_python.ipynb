{
 "cells": [
  {
   "cell_type": "code",
   "execution_count": 1,
   "id": "8ba71686",
   "metadata": {},
   "outputs": [
    {
     "name": "stdout",
     "output_type": "stream",
     "text": [
      "Enter number 1: 6\n",
      "Enter number 2: 7\n",
      "Results after elementary maths operations:------\n",
      "Addition:  13\n",
      "Subtraction:  -1\n",
      "Division:  0.8571428571428571\n",
      "Multiplication:  42\n",
      "Exponent:  279936\n"
     ]
    }
   ],
   "source": [
    "x=int(input(\"Enter number 1: \"))\n",
    "y=int(input(\"Enter number 2: \"))\n",
    "\n",
    "print(\"Results after elementary maths operations:------\")\n",
    "\n",
    "print(\"Addition: \",x+y)\n",
    "print(\"Subtraction: \",x-y)\n",
    "if(y!=0):\n",
    "    print(\"Division: \",x/y)\n",
    "else:\n",
    "    print(\"Division not possible!!\")\n",
    "print(\"Multiplication: \",x*y)\n",
    "print(\"Exponent: \",x**y)\n"
   ]
  },
  {
   "cell_type": "code",
   "execution_count": null,
   "id": "76fb79c8",
   "metadata": {},
   "outputs": [],
   "source": []
  }
 ],
 "metadata": {
  "kernelspec": {
   "display_name": "Python 3",
   "language": "python",
   "name": "python3"
  },
  "language_info": {
   "codemirror_mode": {
    "name": "ipython",
    "version": 3
   },
   "file_extension": ".py",
   "mimetype": "text/x-python",
   "name": "python",
   "nbconvert_exporter": "python",
   "pygments_lexer": "ipython3",
   "version": "3.8.8"
  }
 },
 "nbformat": 4,
 "nbformat_minor": 5
}
