{
 "cells": [
  {
   "cell_type": "code",
   "execution_count": 3,
   "id": "c7879f4f",
   "metadata": {},
   "outputs": [
    {
     "name": "stdout",
     "output_type": "stream",
     "text": [
      "Array:\n",
      "---------------------------------------------------------------------------\n",
      "[[ 2.70795929  1.18470041  1.69218739]\n",
      " [ 1.00750983  0.44321823 -0.30040231]\n",
      " [ 1.41514761  0.79850967  0.72488257]\n",
      " [ 1.46855347 -0.15461344  3.50905393]]\n",
      "\n",
      "Size of Array:\n",
      "---------------------------------------------------------------------------\n",
      "12\n",
      "\n",
      "Size of particular row (row 2):\n",
      "---------------------------------------------------------------------------\n",
      "4\n",
      "\n",
      "Size of particular column (column 2):\n",
      "---------------------------------------------------------------------------\n",
      "3\n",
      "\n",
      "Taking input from file: \n",
      "---------------------------------------------------------------------------\n",
      "[ 2.    -3.     4.     5.     2.111]\n",
      "\n",
      "Saving Array to a file: \n",
      "---------------------------------------------------------------------------\n",
      "Done!\n"
     ]
    }
   ],
   "source": [
    "import numpy as np\n",
    "arr=np.random.randn(4,3)\n",
    "print('Array:')\n",
    "print('---------------------------------------------------------------------------')\n",
    "print(arr)\n",
    "print()\n",
    "print('Size of Array:')\n",
    "print('---------------------------------------------------------------------------')\n",
    "print(arr.size)\n",
    "print()\n",
    "print('Size of particular row (row 2):')\n",
    "print('---------------------------------------------------------------------------')\n",
    "print(len(arr[:,2]))\n",
    "print()\n",
    "print('Size of particular column (column 2):')\n",
    "print('---------------------------------------------------------------------------')\n",
    "print(len(arr[2,:]))\n",
    "print()\n",
    "print('Taking input from file: ')\n",
    "print('---------------------------------------------------------------------------')\n",
    "with open('numpy2text.txt', 'r') as f:\n",
    "    l =np.loadtxt(f)\n",
    "print(l)\n",
    "print()\n",
    "print('Saving Array to a file: ')\n",
    "print('---------------------------------------------------------------------------')\n",
    "with open('numpy2output.txt', 'wb') as f:\n",
    "    np.savetxt(f,arr)\n",
    "print(\"Done!\")"
   ]
  },
  {
   "cell_type": "code",
   "execution_count": null,
   "id": "0b9e9bba",
   "metadata": {},
   "outputs": [],
   "source": []
  }
 ],
 "metadata": {
  "kernelspec": {
   "display_name": "Python 3",
   "language": "python",
   "name": "python3"
  },
  "language_info": {
   "codemirror_mode": {
    "name": "ipython",
    "version": 3
   },
   "file_extension": ".py",
   "mimetype": "text/x-python",
   "name": "python",
   "nbconvert_exporter": "python",
   "pygments_lexer": "ipython3",
   "version": "3.8.8"
  }
 },
 "nbformat": 4,
 "nbformat_minor": 5
}
