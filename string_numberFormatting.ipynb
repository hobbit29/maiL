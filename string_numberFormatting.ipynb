{
 "cells": [
  {
   "cell_type": "code",
   "execution_count": 1,
   "id": "8c82e814",
   "metadata": {},
   "outputs": [
    {
     "name": "stdout",
     "output_type": "stream",
     "text": [
      "----------------------String Formatting---------------------\n",
      "0.6666666666666666\n",
      "['My', 'Name', 'is', 'Arupriya.', 'Hello', 'Everyone']\n",
      "['         My Name is Arupriya.', 'Hello Everyone ']\n",
      "My Name is Arupriya.\n",
      "Hello Everyone\n",
      "         MY NAME IS ARUPRIYA.\n",
      "HELLO EVERYONE \n",
      "         my name is arupriya.\n",
      "hello everyone \n",
      "         my name is arupriya.\n",
      "hello everyone \n",
      "         My Name Is Arupriya.\n",
      "Hello Everyone \n",
      "My_Name_is_Arupriya._Hello_Everyone\n",
      "\n",
      "----------------------Number Formatting----------------------\n",
      "0\n",
      "0.667\n",
      "0x10\n",
      "0b10000\n",
      "0o20\n"
     ]
    }
   ],
   "source": [
    "x= 2/3\n",
    "z=16\n",
    "y= \"\"\"         My Name is Arupriya.\n",
    "Hello Everyone \"\"\"\n",
    "\n",
    "print(\"----------------------String Formatting---------------------\")\n",
    "print(x)\n",
    "print(y.split())\n",
    "print(y.splitlines())\n",
    "print(y.strip())\n",
    "print(y.upper())\n",
    "print(y.lower())\n",
    "print(y.capitalize())\n",
    "print(y.title())\n",
    "print(\"_\".join(y.split()))\n",
    "print()\n",
    "\n",
    "print(\"----------------------Number Formatting----------------------\")\n",
    "print(int(x))\n",
    "print(\"%0.3f\"%(x))\n",
    "print(hex(z))\n",
    "print(bin(z))\n",
    "print(oct(z))\n",
    "\n"
   ]
  },
  {
   "cell_type": "code",
   "execution_count": null,
   "id": "7864c31f",
   "metadata": {},
   "outputs": [],
   "source": []
  }
 ],
 "metadata": {
  "kernelspec": {
   "display_name": "Python 3",
   "language": "python",
   "name": "python3"
  },
  "language_info": {
   "codemirror_mode": {
    "name": "ipython",
    "version": 3
   },
   "file_extension": ".py",
   "mimetype": "text/x-python",
   "name": "python",
   "nbconvert_exporter": "python",
   "pygments_lexer": "ipython3",
   "version": "3.8.8"
  }
 },
 "nbformat": 4,
 "nbformat_minor": 5
}
