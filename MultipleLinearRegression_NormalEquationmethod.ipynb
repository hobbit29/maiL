{
 "cells": [
  {
   "cell_type": "code",
   "execution_count": 1,
   "id": "4a7894eb",
   "metadata": {},
   "outputs": [],
   "source": [
    "import numpy as np\n",
    "import pandas as pd\n",
    "import matplotlib.pyplot as plt\n",
    "\n",
    "col_list = [\"TV\", \"radio\",\"newspaper\",\"sales\"]\n",
    "data = pd.read_csv(\"Advertising.csv\", usecols=col_list)"
   ]
  },
  {
   "cell_type": "code",
   "execution_count": 2,
   "id": "ca358b08",
   "metadata": {},
   "outputs": [
    {
     "data": {
      "text/plain": [
       "0      22.1\n",
       "1      10.4\n",
       "2       9.3\n",
       "3      18.5\n",
       "4      12.9\n",
       "       ... \n",
       "195     7.6\n",
       "196     9.7\n",
       "197    12.8\n",
       "198    25.5\n",
       "199    13.4\n",
       "Name: sales, Length: 200, dtype: float64"
      ]
     },
     "execution_count": 2,
     "metadata": {},
     "output_type": "execute_result"
    }
   ],
   "source": [
    "data[\"sales\"]     #y-axis"
   ]
  },
  {
   "cell_type": "code",
   "execution_count": 3,
   "id": "d8e2b590",
   "metadata": {},
   "outputs": [
    {
     "data": {
      "text/plain": [
       "0      37.8\n",
       "1      39.3\n",
       "2      45.9\n",
       "3      41.3\n",
       "4      10.8\n",
       "       ... \n",
       "195     3.7\n",
       "196     4.9\n",
       "197     9.3\n",
       "198    42.0\n",
       "199     8.6\n",
       "Name: radio, Length: 200, dtype: float64"
      ]
     },
     "execution_count": 3,
     "metadata": {},
     "output_type": "execute_result"
    }
   ],
   "source": [
    "data[\"radio\"]     #x-axis"
   ]
  },
  {
   "cell_type": "code",
   "execution_count": 4,
   "id": "3696682a",
   "metadata": {},
   "outputs": [
    {
     "name": "stdout",
     "output_type": "stream",
     "text": [
      "23.264000000000024\n",
      "14.022500000000003\n",
      "200\n"
     ]
    }
   ],
   "source": [
    "x_mean=np.mean(data[\"radio\"])\n",
    "print(x_mean)\n",
    "y_mean=np.mean(data[\"sales\"])\n",
    "print(y_mean)\n",
    "n=data[\"sales\"].size\n",
    "print(n)"
   ]
  },
  {
   "cell_type": "code",
   "execution_count": 5,
   "id": "e78168c1",
   "metadata": {},
   "outputs": [
    {
     "name": "stdout",
     "output_type": "stream",
     "text": [
      "8882.50199999992\n",
      "43865.12079999976\n",
      "0.20249578339243898\n",
      "9.311638095158298\n"
     ]
    }
   ],
   "source": [
    "ss_xy=np.sum(data[\"radio\"]*data[\"sales\"]) - n*x_mean*y_mean\n",
    "print(ss_xy)\n",
    "ss_xx=np.sum(data[\"radio\"]*data[\"radio\"]) - n*x_mean*x_mean\n",
    "print(ss_xx)\n",
    "b1=ss_xy/ss_xx\n",
    "print(b1)\n",
    "b0=y_mean-b1*x_mean\n",
    "print(b0)"
   ]
  },
  {
   "cell_type": "code",
   "execution_count": 6,
   "id": "457535fd",
   "metadata": {},
   "outputs": [
    {
     "name": "stdout",
     "output_type": "stream",
     "text": [
      "0      16.965979\n",
      "1      17.269722\n",
      "2      18.606195\n",
      "3      17.674714\n",
      "4      11.498593\n",
      "         ...    \n",
      "195    10.060872\n",
      "196    10.303867\n",
      "197    11.194849\n",
      "198    17.816461\n",
      "199    11.053102\n",
      "Name: radio, Length: 200, dtype: float64\n"
     ]
    },
    {
     "data": {
      "image/png": "[encoded data removed]",
      "text/plain": [
       "<Figure size 432x288 with 1 Axes>"
      ]
     },
     "metadata": {
      "needs_background": "light"
     },
     "output_type": "display_data"
    }
   ],
   "source": [
    "plt.scatter(data[\"radio\"],data[\"sales\"])\n",
    "y_pred=b0+b1*data[\"radio\"]\n",
    "print(y_pred)\n",
    "plt.plot(data[\"radio\"],y_pred,color='red')\n",
    "plt.xlabel(\"radio\")\n",
    "plt.ylabel(\"sales\")\n",
    "plt.title(\"Linear Regression[Sales~Radio]\")\n",
    "plt.show()"
   ]
  },
  {
   "cell_type": "code",
   "execution_count": 7,
   "id": "2ffa4446",
   "metadata": {},
   "outputs": [
    {
     "data": {
      "text/plain": [
       "0      5.134021\n",
       "1     -6.869722\n",
       "2     -9.306195\n",
       "3      0.825286\n",
       "4      1.401407\n",
       "         ...   \n",
       "195   -2.460872\n",
       "196   -0.603867\n",
       "197    1.605151\n",
       "198    7.683539\n",
       "199    2.346898\n",
       "Length: 200, dtype: float64"
      ]
     },
     "execution_count": 7,
     "metadata": {},
     "output_type": "execute_result"
    }
   ],
   "source": [
    "e=data[\"sales\"]-y_pred\n",
    "e"
   ]
  },
  {
   "cell_type": "code",
   "execution_count": 8,
   "id": "12961a22",
   "metadata": {},
   "outputs": [
    {
     "data": {
      "text/plain": [
       "3618.4795490250876"
      ]
     },
     "execution_count": 8,
     "metadata": {},
     "output_type": "execute_result"
    }
   ],
   "source": [
    "RSS=np.sum(e**2)\n",
    "RSS"
   ]
  },
  {
   "cell_type": "code",
   "execution_count": 9,
   "id": "4da6da87",
   "metadata": {},
   "outputs": [
    {
     "data": {
      "text/plain": [
       "18.09239774512544"
      ]
     },
     "execution_count": 9,
     "metadata": {},
     "output_type": "execute_result"
    }
   ],
   "source": [
    "MSE=RSS/n\n",
    "MSE"
   ]
  },
  {
   "cell_type": "code",
   "execution_count": 10,
   "id": "1639f4b1",
   "metadata": {},
   "outputs": [
    {
     "data": {
      "text/plain": [
       "5417.14875"
      ]
     },
     "execution_count": 10,
     "metadata": {},
     "output_type": "execute_result"
    }
   ],
   "source": [
    "SST=np.sum((data[\"sales\"]-y_mean)**2)\n",
    "SST"
   ]
  },
  {
   "cell_type": "code",
   "execution_count": 11,
   "id": "e078ee27",
   "metadata": {},
   "outputs": [
    {
     "data": {
      "text/plain": [
       "0.33203245544529536"
      ]
     },
     "execution_count": 11,
     "metadata": {},
     "output_type": "execute_result"
    }
   ],
   "source": [
    "R2=1-(RSS/SST)\n",
    "R2"
   ]
  },
  {
   "cell_type": "markdown",
   "id": "7239f38f",
   "metadata": {},
   "source": [
    "# Regress sales~Radio, TV, Newspaper from adverstising.csv"
   ]
  },
  {
   "cell_type": "code",
   "execution_count": 12,
   "id": "cc7f974c",
   "metadata": {},
   "outputs": [],
   "source": [
    "import pandas as pd\n",
    "import numpy as np\n",
    "import statistics\n",
    "import math\n",
    "import statsmodels.api as sm\n",
    "import matplotlib.pyplot as plt\n",
    "from mpl_toolkits.mplot3d import axes3d\n",
    "ds=pd.read_csv(\"Advertising.csv\")"
   ]
  },
  {
   "cell_type": "code",
   "execution_count": 13,
   "id": "1fb6eb0c",
   "metadata": {},
   "outputs": [],
   "source": [
    "x1=ds.TV.values\n",
    "#print(x1.shape)\n",
    "x1=x1.reshape(200,1)\n",
    "#print(x1.shape)\n",
    "x2=ds.radio.values\n",
    "x2=x2.reshape(200,1)\n",
    "x3=ds.newspaper.values\n",
    "x3=x3.reshape(200,1)\n",
    "x0=np.ones([200,1])"
   ]
  },
  {
   "cell_type": "code",
   "execution_count": 14,
   "id": "50e6cb85",
   "metadata": {},
   "outputs": [
    {
     "name": "stdout",
     "output_type": "stream",
     "text": [
      "[[  1.  230.1  37.8  69.2]\n",
      " [  1.   44.5  39.3  45.1]\n",
      " [  1.   17.2  45.9  69.3]\n",
      " [  1.  151.5  41.3  58.5]\n",
      " [  1.  180.8  10.8  58.4]\n",
      " [  1.    8.7  48.9  75. ]\n",
      " [  1.   57.5  32.8  23.5]\n",
      " [  1.  120.2  19.6  11.6]\n",
      " [  1.    8.6   2.1   1. ]\n",
      " [  1.  199.8   2.6  21.2]\n",
      " [  1.   66.1   5.8  24.2]\n",
      " [  1.  214.7  24.    4. ]\n",
      " [  1.   23.8  35.1  65.9]\n",
      " [  1.   97.5   7.6   7.2]\n",
      " [  1.  204.1  32.9  46. ]\n",
      " [  1.  195.4  47.7  52.9]\n",
      " [  1.   67.8  36.6 114. ]\n",
      " [  1.  281.4  39.6  55.8]\n",
      " [  1.   69.2  20.5  18.3]\n",
      " [  1.  147.3  23.9  19.1]\n",
      " [  1.  218.4  27.7  53.4]\n",
      " [  1.  237.4   5.1  23.5]\n",
      " [  1.   13.2  15.9  49.6]\n",
      " [  1.  228.3  16.9  26.2]\n",
      " [  1.   62.3  12.6  18.3]\n",
      " [  1.  262.9   3.5  19.5]\n",
      " [  1.  142.9  29.3  12.6]\n",
      " [  1.  240.1  16.7  22.9]\n",
      " [  1.  248.8  27.1  22.9]\n",
      " [  1.   70.6  16.   40.8]\n",
      " [  1.  292.9  28.3  43.2]\n",
      " [  1.  112.9  17.4  38.6]\n",
      " [  1.   97.2   1.5  30. ]\n",
      " [  1.  265.6  20.    0.3]\n",
      " [  1.   95.7   1.4   7.4]\n",
      " [  1.  290.7   4.1   8.5]\n",
      " [  1.  266.9  43.8   5. ]\n",
      " [  1.   74.7  49.4  45.7]\n",
      " [  1.   43.1  26.7  35.1]\n",
      " [  1.  228.   37.7  32. ]\n",
      " [  1.  202.5  22.3  31.6]\n",
      " [  1.  177.   33.4  38.7]\n",
      " [  1.  293.6  27.7   1.8]\n",
      " [  1.  206.9   8.4  26.4]\n",
      " [  1.   25.1  25.7  43.3]\n",
      " [  1.  175.1  22.5  31.5]\n",
      " [  1.   89.7   9.9  35.7]\n",
      " [  1.  239.9  41.5  18.5]\n",
      " [  1.  227.2  15.8  49.9]\n",
      " [  1.   66.9  11.7  36.8]\n",
      " [  1.  199.8   3.1  34.6]\n",
      " [  1.  100.4   9.6   3.6]\n",
      " [  1.  216.4  41.7  39.6]\n",
      " [  1.  182.6  46.2  58.7]\n",
      " [  1.  262.7  28.8  15.9]\n",
      " [  1.  198.9  49.4  60. ]\n",
      " [  1.    7.3  28.1  41.4]\n",
      " [  1.  136.2  19.2  16.6]\n",
      " [  1.  210.8  49.6  37.7]\n",
      " [  1.  210.7  29.5   9.3]\n",
      " [  1.   53.5   2.   21.4]\n",
      " [  1.  261.3  42.7  54.7]\n",
      " [  1.  239.3  15.5  27.3]\n",
      " [  1.  102.7  29.6   8.4]\n",
      " [  1.  131.1  42.8  28.9]\n",
      " [  1.   69.    9.3   0.9]\n",
      " [  1.   31.5  24.6   2.2]\n",
      " [  1.  139.3  14.5  10.2]\n",
      " [  1.  237.4  27.5  11. ]\n",
      " [  1.  216.8  43.9  27.2]\n",
      " [  1.  199.1  30.6  38.7]\n",
      " [  1.  109.8  14.3  31.7]\n",
      " [  1.   26.8  33.   19.3]\n",
      " [  1.  129.4   5.7  31.3]\n",
      " [  1.  213.4  24.6  13.1]\n",
      " [  1.   16.9  43.7  89.4]\n",
      " [  1.   27.5   1.6  20.7]\n",
      " [  1.  120.5  28.5  14.2]\n",
      " [  1.    5.4  29.9   9.4]\n",
      " [  1.  116.    7.7  23.1]\n",
      " [  1.   76.4  26.7  22.3]\n",
      " [  1.  239.8   4.1  36.9]\n",
      " [  1.   75.3  20.3  32.5]\n",
      " [  1.   68.4  44.5  35.6]\n",
      " [  1.  213.5  43.   33.8]\n",
      " [  1.  193.2  18.4  65.7]\n",
      " [  1.   76.3  27.5  16. ]\n",
      " [  1.  110.7  40.6  63.2]\n",
      " [  1.   88.3  25.5  73.4]\n",
      " [  1.  109.8  47.8  51.4]\n",
      " [  1.  134.3   4.9   9.3]\n",
      " [  1.   28.6   1.5  33. ]\n",
      " [  1.  217.7  33.5  59. ]\n",
      " [  1.  250.9  36.5  72.3]\n",
      " [  1.  107.4  14.   10.9]\n",
      " [  1.  163.3  31.6  52.9]\n",
      " [  1.  197.6   3.5   5.9]\n",
      " [  1.  184.9  21.   22. ]\n",
      " [  1.  289.7  42.3  51.2]\n",
      " [  1.  135.2  41.7  45.9]\n",
      " [  1.  222.4   4.3  49.8]\n",
      " [  1.  296.4  36.3 100.9]\n",
      " [  1.  280.2  10.1  21.4]\n",
      " [  1.  187.9  17.2  17.9]\n",
      " [  1.  238.2  34.3   5.3]\n",
      " [  1.  137.9  46.4  59. ]\n",
      " [  1.   25.   11.   29.7]\n",
      " [  1.   90.4   0.3  23.2]\n",
      " [  1.   13.1   0.4  25.6]\n",
      " [  1.  255.4  26.9   5.5]\n",
      " [  1.  225.8   8.2  56.5]\n",
      " [  1.  241.7  38.   23.2]\n",
      " [  1.  175.7  15.4   2.4]\n",
      " [  1.  209.6  20.6  10.7]\n",
      " [  1.   78.2  46.8  34.5]\n",
      " [  1.   75.1  35.   52.7]\n",
      " [  1.  139.2  14.3  25.6]\n",
      " [  1.   76.4   0.8  14.8]\n",
      " [  1.  125.7  36.9  79.2]\n",
      " [  1.   19.4  16.   22.3]\n",
      " [  1.  141.3  26.8  46.2]\n",
      " [  1.   18.8  21.7  50.4]\n",
      " [  1.  224.    2.4  15.6]\n",
      " [  1.  123.1  34.6  12.4]\n",
      " [  1.  229.5  32.3  74.2]\n",
      " [  1.   87.2  11.8  25.9]\n",
      " [  1.    7.8  38.9  50.6]\n",
      " [  1.   80.2   0.    9.2]\n",
      " [  1.  220.3  49.    3.2]\n",
      " [  1.   59.6  12.   43.1]\n",
      " [  1.    0.7  39.6   8.7]\n",
      " [  1.  265.2   2.9  43. ]\n",
      " [  1.    8.4  27.2   2.1]\n",
      " [  1.  219.8  33.5  45.1]\n",
      " [  1.   36.9  38.6  65.6]\n",
      " [  1.   48.3  47.    8.5]\n",
      " [  1.   25.6  39.    9.3]\n",
      " [  1.  273.7  28.9  59.7]\n",
      " [  1.   43.   25.9  20.5]\n",
      " [  1.  184.9  43.9   1.7]\n",
      " [  1.   73.4  17.   12.9]\n",
      " [  1.  193.7  35.4  75.6]\n",
      " [  1.  220.5  33.2  37.9]\n",
      " [  1.  104.6   5.7  34.4]\n",
      " [  1.   96.2  14.8  38.9]\n",
      " [  1.  140.3   1.9   9. ]\n",
      " [  1.  240.1   7.3   8.7]\n",
      " [  1.  243.2  49.   44.3]\n",
      " [  1.   38.   40.3  11.9]\n",
      " [  1.   44.7  25.8  20.6]\n",
      " [  1.  280.7  13.9  37. ]\n",
      " [  1.  121.    8.4  48.7]\n",
      " [  1.  197.6  23.3  14.2]\n",
      " [  1.  171.3  39.7  37.7]\n",
      " [  1.  187.8  21.1   9.5]\n",
      " [  1.    4.1  11.6   5.7]\n",
      " [  1.   93.9  43.5  50.5]\n",
      " [  1.  149.8   1.3  24.3]\n",
      " [  1.   11.7  36.9  45.2]\n",
      " [  1.  131.7  18.4  34.6]\n",
      " [  1.  172.5  18.1  30.7]\n",
      " [  1.   85.7  35.8  49.3]\n",
      " [  1.  188.4  18.1  25.6]\n",
      " [  1.  163.5  36.8   7.4]\n",
      " [  1.  117.2  14.7   5.4]\n",
      " [  1.  234.5   3.4  84.8]\n",
      " [  1.   17.9  37.6  21.6]\n",
      " [  1.  206.8   5.2  19.4]\n",
      " [  1.  215.4  23.6  57.6]\n",
      " [  1.  284.3  10.6   6.4]\n",
      " [  1.   50.   11.6  18.4]\n",
      " [  1.  164.5  20.9  47.4]\n",
      " [  1.   19.6  20.1  17. ]\n",
      " [  1.  168.4   7.1  12.8]\n",
      " [  1.  222.4   3.4  13.1]\n",
      " [  1.  276.9  48.9  41.8]\n",
      " [  1.  248.4  30.2  20.3]\n",
      " [  1.  170.2   7.8  35.2]\n",
      " [  1.  276.7   2.3  23.7]\n",
      " [  1.  165.6  10.   17.6]\n",
      " [  1.  156.6   2.6   8.3]\n",
      " [  1.  218.5   5.4  27.4]\n",
      " [  1.   56.2   5.7  29.7]\n",
      " [  1.  287.6  43.   71.8]\n",
      " [  1.  253.8  21.3  30. ]\n",
      " [  1.  205.   45.1  19.6]\n",
      " [  1.  139.5   2.1  26.6]\n",
      " [  1.  191.1  28.7  18.2]\n",
      " [  1.  286.   13.9   3.7]\n",
      " [  1.   18.7  12.1  23.4]\n",
      " [  1.   39.5  41.1   5.8]\n",
      " [  1.   75.5  10.8   6. ]\n",
      " [  1.   17.2   4.1  31.6]\n",
      " [  1.  166.8  42.    3.6]\n",
      " [  1.  149.7  35.6   6. ]\n",
      " [  1.   38.2   3.7  13.8]\n",
      " [  1.   94.2   4.9   8.1]\n",
      " [  1.  177.    9.3   6.4]\n",
      " [  1.  283.6  42.   66.2]\n",
      " [  1.  232.1   8.6   8.7]]\n"
     ]
    }
   ],
   "source": [
    "X=np.column_stack((x0,x1,x2,x3))\n",
    "print(X)\n",
    "y=ds.sales.values\n",
    "Y=y.reshape(200,1)"
   ]
  },
  {
   "cell_type": "code",
   "execution_count": 15,
   "id": "4d9566d9",
   "metadata": {},
   "outputs": [
    {
     "name": "stdout",
     "output_type": "stream",
     "text": [
      "(4, 200)\n",
      "(4, 4)\n",
      "(4, 4)\n"
     ]
    }
   ],
   "source": [
    "Xt=np.transpose(X)\n",
    "print(Xt.shape)\n",
    "XtX=np.matmul(Xt,X)\n",
    "print(XtX.shape)\n",
    "XtX_inv=np.linalg.inv(XtX)\n",
    "print(XtX_inv.shape)\n",
    "prod=np.matmul(XtX_inv,Xt)"
   ]
  },
  {
   "cell_type": "code",
   "execution_count": 16,
   "id": "675b0bdf",
   "metadata": {},
   "outputs": [
    {
     "data": {
      "text/plain": [
       "array([[ 2.93888937e+00],\n",
       "       [ 4.57646455e-02],\n",
       "       [ 1.88530017e-01],\n",
       "       [-1.03749304e-03]])"
      ]
     },
     "execution_count": 16,
     "metadata": {},
     "output_type": "execute_result"
    }
   ],
   "source": [
    "theta=np.matmul(prod,Y)\n",
    "theta"
   ]
  },
  {
   "cell_type": "code",
   "execution_count": 17,
   "id": "73eb9fd4",
   "metadata": {},
   "outputs": [
    {
     "data": {
      "text/plain": [
       "(200, 1)"
      ]
     },
     "execution_count": 17,
     "metadata": {},
     "output_type": "execute_result"
    }
   ],
   "source": [
    "y_pred=np.matmul(X,theta)\n",
    "\n",
    "e=Y-y_pred\n",
    "e.shape"
   ]
  },
  {
   "cell_type": "code",
   "execution_count": 18,
   "id": "961f85c7",
   "metadata": {},
   "outputs": [
    {
     "data": {
      "text/plain": [
       "array([[2.48385666e+00],\n",
       "       [3.75528131e+00],\n",
       "       [9.04608352e+00],\n",
       "       [8.13911590e-01],\n",
       "       [8.33314409e-02],\n",
       "       [2.78609537e+01],\n",
       "       [4.93366440e-03],\n",
       "       [1.16002988e+00],\n",
       "       [1.15059762e+00],\n",
       "       [3.80581074e+00],\n",
       "       [2.45768580e+00],\n",
       "       [1.31953047e-02],\n",
       "       [1.89646151e+00],\n",
       "       [7.63350851e-01],\n",
       "       [3.19941388e-01],\n",
       "       [2.49861402e+00],\n",
       "       [1.04753688e-01],\n",
       "       [1.38072568e+00],\n",
       "       [1.81796127e+00],\n",
       "       [1.88292700e-01],\n",
       "       [1.01540441e-02],\n",
       "       [5.02001143e+00],\n",
       "       [7.90588262e-01],\n",
       "       [1.09397562e+00],\n",
       "       [2.41330362e+00],\n",
       "       [1.30323787e+01],\n",
       "       [1.09950148e-04],\n",
       "       [1.32635170e+00],\n",
       "       [2.60649077e-01],\n",
       "       [1.83867120e+00],\n",
       "       [5.47250240e-02],\n",
       "       [3.06813071e-01],\n",
       "       [3.84597933e+00],\n",
       "       [2.14408163e+00],\n",
       "       [3.70627755e+00],\n",
       "       [1.76973865e+01],\n",
       "       [3.97643275e+00],\n",
       "       [8.52811226e-01],\n",
       "       [3.66029466e-02],\n",
       "       [1.10752388e+00],\n",
       "       [4.94329984e-02],\n",
       "       [3.84094144e-02],\n",
       "       [8.02463474e-01],\n",
       "       [1.13179138e+00],\n",
       "       [1.50450861e-01],\n",
       "       [6.83943520e-02],\n",
       "       [2.98119337e+00],\n",
       "       [2.18262243e+00],\n",
       "       [2.14218404e+00],\n",
       "       [2.34651662e+00],\n",
       "       [1.51588133e+00],\n",
       "       [1.85010878e+00],\n",
       "       [3.75206342e+00],\n",
       "       [1.57577917e+00],\n",
       "       [3.04258523e-02],\n",
       "       [5.79552371e+00],\n",
       "       [9.16704325e+00],\n",
       "       [1.80975352e-01],\n",
       "       [3.61740626e+00],\n",
       "       [7.10291895e-02],\n",
       "       [5.55943029e+00],\n",
       "       [1.71433960e+00],\n",
       "       [1.17562133e+00],\n",
       "       [6.23007092e-01],\n",
       "       [1.04502458e+00],\n",
       "       [2.10526948e+00],\n",
       "       [2.34225380e-01],\n",
       "       [1.85774911e+00],\n",
       "       [5.86438036e-03],\n",
       "       [1.41868958e+00],\n",
       "       [2.70922523e-01],\n",
       "       [3.14374831e+00],\n",
       "       [2.45501519e+00],\n",
       "       [1.20344837e+00],\n",
       "       [1.08446372e-01],\n",
       "       [9.97499621e+00],\n",
       "       [5.86807486e+00],\n",
       "       [1.50619881e-01],\n",
       "       [1.23433719e+01],\n",
       "       [1.75482139e+00],\n",
       "       [1.25370069e-01],\n",
       "       [5.51282659e+00],\n",
       "       [1.25796863e+00],\n",
       "       [6.75424469e-01],\n",
       "       [8.43890930e-01],\n",
       "       [3.45666560e-04],\n",
       "       [1.61035755e-01],\n",
       "       [1.65010831e-01],\n",
       "       [1.41307662e+00],\n",
       "       [4.93973325e-02],\n",
       "       [1.44184943e+00],\n",
       "       [7.86064406e+00],\n",
       "       [5.93428297e-02],\n",
       "       [9.45612744e-01],\n",
       "       [1.03607185e+00],\n",
       "       [3.42317290e-01],\n",
       "       [8.75566607e-01],\n",
       "       [2.65436359e-02],\n",
       "       [1.64196743e+00],\n",
       "       [6.74180135e-02],\n",
       "       [4.73479512e+00],\n",
       "       [3.10820914e-01],\n",
       "       [8.08886980e+00],\n",
       "       [3.87026029e-03],\n",
       "       [1.59114202e-01],\n",
       "       [1.59664788e+00],\n",
       "       [1.15342843e+00],\n",
       "       [2.53286434e+00],\n",
       "       [2.93348375e+00],\n",
       "       [1.14637575e-02],\n",
       "       [1.84925755e+00],\n",
       "       [4.35237102e-01],\n",
       "       [4.81320365e-02],\n",
       "       [2.53790490e-01],\n",
       "       [4.97160265e-01],\n",
       "       [1.02201026e-01],\n",
       "       [4.89526967e-02],\n",
       "       [8.00450053e+00],\n",
       "       [1.11493565e-01],\n",
       "       [4.84297781e-02],\n",
       "       [1.18786883e+00],\n",
       "       [7.02372089e-01],\n",
       "       [4.10652838e+00],\n",
       "       [1.37379739e-02],\n",
       "       [6.03129430e-02],\n",
       "       [2.16869925e+00],\n",
       "       [1.58179139e+01],\n",
       "       [4.84145651e+00],\n",
       "       [5.97562125e+00],\n",
       "       [3.29746923e+00],\n",
       "       [7.79280596e+01],\n",
       "       [8.28172244e+00],\n",
       "       [7.55782636e+00],\n",
       "       [1.10940241e-01],\n",
       "       [1.07496232e+00],\n",
       "       [5.76678848e+00],\n",
       "       [3.81610860e+00],\n",
       "       [2.62676596e-03],\n",
       "       [2.83679760e-02],\n",
       "       [1.04964877e+00],\n",
       "       [1.98911258e+00],\n",
       "       [6.41554032e-01],\n",
       "       [7.22722262e-01],\n",
       "       [2.67387047e+00],\n",
       "       [1.71260661e+00],\n",
       "       [3.49826444e-01],\n",
       "       [4.38577281e+00],\n",
       "       [4.57591553e+00],\n",
       "       [1.85874888e+00],\n",
       "       [7.43810523e-02],\n",
       "       [5.14022006e+00],\n",
       "       [2.52957033e+00],\n",
       "       [5.75998539e-02],\n",
       "       [6.02329161e-01],\n",
       "       [9.67922275e-03],\n",
       "       [4.44180452e+00],\n",
       "       [7.19984748e-03],\n",
       "       [7.34257049e-03],\n",
       "       [9.51228137e+00],\n",
       "       [2.50852498e-01],\n",
       "       [3.46581592e-02],\n",
       "       [6.71564854e-02],\n",
       "       [2.18856091e-03],\n",
       "       [4.20375779e-01],\n",
       "       [6.91733867e-01],\n",
       "       [5.39968103e+00],\n",
       "       [7.97720886e+00],\n",
       "       [1.35314305e+00],\n",
       "       [7.42058209e-03],\n",
       "       [8.65275344e+00],\n",
       "       [1.01006527e+00],\n",
       "       [2.00863355e-02],\n",
       "       [5.91726904e-05],\n",
       "       [7.34078731e-02],\n",
       "       [5.03714022e+00],\n",
       "       [4.89794301e+00],\n",
       "       [4.86764043e-02],\n",
       "       [2.13486878e-01],\n",
       "       [1.77324976e+01],\n",
       "       [4.64165702e-02],\n",
       "       [7.60378759e-03],\n",
       "       [2.98632679e+00],\n",
       "       [4.60244082e+00],\n",
       "       [4.27207507e+00],\n",
       "       [8.80821583e-01],\n",
       "       [3.22917095e+00],\n",
       "       [3.70426666e-01],\n",
       "       [4.99780773e-02],\n",
       "       [7.53121806e+00],\n",
       "       [4.20391299e-01],\n",
       "       [2.85325847e+00],\n",
       "       [2.17851895e+00],\n",
       "       [2.05569767e+00],\n",
       "       [1.23886257e+00],\n",
       "       [6.47541385e-01],\n",
       "       [4.97137264e+00],\n",
       "       [2.35526615e+00],\n",
       "       [1.98223396e-04],\n",
       "       [3.00217481e+00],\n",
       "       [3.14422241e+00]])"
      ]
     },
     "execution_count": 18,
     "metadata": {},
     "output_type": "execute_result"
    }
   ],
   "source": [
    "e2=e**2\n",
    "e2"
   ]
  },
  {
   "cell_type": "code",
   "execution_count": 19,
   "id": "22a83037",
   "metadata": {},
   "outputs": [
    {
     "data": {
      "text/plain": [
       "556.8252629021872"
      ]
     },
     "execution_count": 19,
     "metadata": {},
     "output_type": "execute_result"
    }
   ],
   "source": [
    "RSS=np.sum(e2)\n",
    "RSS"
   ]
  },
  {
   "cell_type": "code",
   "execution_count": 20,
   "id": "a9bc7773",
   "metadata": {},
   "outputs": [
    {
     "data": {
      "text/plain": [
       "2.784126314510936"
      ]
     },
     "execution_count": 20,
     "metadata": {},
     "output_type": "execute_result"
    }
   ],
   "source": [
    "MSE=np.mean(e2)\n",
    "MSE"
   ]
  },
  {
   "cell_type": "code",
   "execution_count": 21,
   "id": "96ea0666",
   "metadata": {},
   "outputs": [
    {
     "data": {
      "text/plain": [
       "14.0225"
      ]
     },
     "execution_count": 21,
     "metadata": {},
     "output_type": "execute_result"
    }
   ],
   "source": [
    "y_mean=np.mean(Y)\n",
    "y_mean"
   ]
  },
  {
   "cell_type": "code",
   "execution_count": 22,
   "id": "2eb446b1",
   "metadata": {},
   "outputs": [
    {
     "data": {
      "text/plain": [
       "array([[  8.0775],\n",
       "       [ -3.6225],\n",
       "       [ -4.7225],\n",
       "       [  4.4775],\n",
       "       [ -1.1225],\n",
       "       [ -6.8225],\n",
       "       [ -2.2225],\n",
       "       [ -0.8225],\n",
       "       [ -9.2225],\n",
       "       [ -3.4225],\n",
       "       [ -5.4225],\n",
       "       [  3.3775],\n",
       "       [ -4.8225],\n",
       "       [ -4.3225],\n",
       "       [  4.9775],\n",
       "       [  8.3775],\n",
       "       [ -1.5225],\n",
       "       [ 10.3775],\n",
       "       [ -2.7225],\n",
       "       [  0.5775],\n",
       "       [  3.9775],\n",
       "       [ -1.5225],\n",
       "       [ -8.4225],\n",
       "       [  1.4775],\n",
       "       [ -4.3225],\n",
       "       [ -2.0225],\n",
       "       [  0.9775],\n",
       "       [  1.8775],\n",
       "       [  4.8775],\n",
       "       [ -3.5225],\n",
       "       [  7.3775],\n",
       "       [ -2.1225],\n",
       "       [ -4.4225],\n",
       "       [  3.3775],\n",
       "       [ -4.5225],\n",
       "       [ -1.2225],\n",
       "       [ 11.3775],\n",
       "       [  0.6775],\n",
       "       [ -3.9225],\n",
       "       [  7.4775],\n",
       "       [  2.5775],\n",
       "       [  3.0775],\n",
       "       [  6.6775],\n",
       "       [ -1.1225],\n",
       "       [ -5.5225],\n",
       "       [  0.8775],\n",
       "       [ -3.4225],\n",
       "       [  9.1775],\n",
       "       [  0.7775],\n",
       "       [ -4.3225],\n",
       "       [ -2.6225],\n",
       "       [ -3.3225],\n",
       "       [  8.5775],\n",
       "       [  7.1775],\n",
       "       [  6.1775],\n",
       "       [  9.6775],\n",
       "       [ -8.5225],\n",
       "       [ -0.8225],\n",
       "       [  9.7775],\n",
       "       [  4.3775],\n",
       "       [ -5.9225],\n",
       "       [ 10.1775],\n",
       "       [  1.6775],\n",
       "       [ -0.0225],\n",
       "       [  3.9775],\n",
       "       [ -4.7225],\n",
       "       [ -4.5225],\n",
       "       [ -0.6225],\n",
       "       [  4.8775],\n",
       "       [  8.2775],\n",
       "       [  4.2775],\n",
       "       [ -1.6225],\n",
       "       [ -5.2225],\n",
       "       [ -3.0225],\n",
       "       [  2.9775],\n",
       "       [ -5.3225],\n",
       "       [ -7.1225],\n",
       "       [  0.1775],\n",
       "       [ -8.7225],\n",
       "       [ -3.0225],\n",
       "       [ -2.2225],\n",
       "       [ -1.7225],\n",
       "       [ -2.7225],\n",
       "       [ -0.4225],\n",
       "       [  7.6775],\n",
       "       [  1.1775],\n",
       "       [ -2.0225],\n",
       "       [  1.9775],\n",
       "       [ -1.1225],\n",
       "       [  2.6775],\n",
       "       [ -2.8225],\n",
       "       [ -6.7225],\n",
       "       [  5.3775],\n",
       "       [  8.1775],\n",
       "       [ -2.5225],\n",
       "       [  2.8775],\n",
       "       [ -2.3225],\n",
       "       [  1.4775],\n",
       "       [ 11.3775],\n",
       "       [  3.1775],\n",
       "       [ -2.3225],\n",
       "       [  9.7775],\n",
       "       [  0.7775],\n",
       "       [  0.6775],\n",
       "       [  6.6775],\n",
       "       [  5.1775],\n",
       "       [ -6.8225],\n",
       "       [ -5.3225],\n",
       "       [ -8.7225],\n",
       "       [  5.7775],\n",
       "       [ -0.6225],\n",
       "       [  7.7775],\n",
       "       [  0.0775],\n",
       "       [  1.8775],\n",
       "       [  0.5775],\n",
       "       [ -1.4225],\n",
       "       [ -1.8225],\n",
       "       [ -4.6225],\n",
       "       [  1.8775],\n",
       "       [ -7.4225],\n",
       "       [  1.4775],\n",
       "       [ -7.0225],\n",
       "       [ -2.4225],\n",
       "       [  1.1775],\n",
       "       [  5.6775],\n",
       "       [ -3.4225],\n",
       "       [ -7.4225],\n",
       "       [ -5.2225],\n",
       "       [ 10.6775],\n",
       "       [ -4.3225],\n",
       "       [-12.4225],\n",
       "       [ -1.3225],\n",
       "       [ -8.3225],\n",
       "       [  5.5775],\n",
       "       [ -3.2225],\n",
       "       [ -2.4225],\n",
       "       [ -4.5225],\n",
       "       [  6.7775],\n",
       "       [ -4.4225],\n",
       "       [  6.6775],\n",
       "       [ -3.1225],\n",
       "       [  5.1775],\n",
       "       [  6.0775],\n",
       "       [ -3.6225],\n",
       "       [ -2.6225],\n",
       "       [ -3.7225],\n",
       "       [ -0.8225],\n",
       "       [ 11.3775],\n",
       "       [ -3.1225],\n",
       "       [ -3.9225],\n",
       "       [  2.0775],\n",
       "       [ -2.4225],\n",
       "       [  2.5775],\n",
       "       [  4.9775],\n",
       "       [  1.5775],\n",
       "       [-10.8225],\n",
       "       [  1.2775],\n",
       "       [ -3.9225],\n",
       "       [ -6.7225],\n",
       "       [ -1.1225],\n",
       "       [  0.3775],\n",
       "       [ -0.7225],\n",
       "       [  0.8775],\n",
       "       [  3.9775],\n",
       "       [ -2.1225],\n",
       "       [ -2.1225],\n",
       "       [ -6.0225],\n",
       "       [ -1.8225],\n",
       "       [  3.0775],\n",
       "       [  0.9775],\n",
       "       [ -5.6225],\n",
       "       [  0.4775],\n",
       "       [ -6.4225],\n",
       "       [ -2.3225],\n",
       "       [ -2.5225],\n",
       "       [ 12.9775],\n",
       "       [  6.1775],\n",
       "       [ -2.3225],\n",
       "       [ -2.2225],\n",
       "       [ -1.4225],\n",
       "       [ -3.5225],\n",
       "       [ -1.8225],\n",
       "       [ -5.3225],\n",
       "       [ 12.1775],\n",
       "       [  3.5775],\n",
       "       [  8.5775],\n",
       "       [ -3.7225],\n",
       "       [  3.2775],\n",
       "       [  1.8775],\n",
       "       [ -7.3225],\n",
       "       [ -3.2225],\n",
       "       [ -4.1225],\n",
       "       [ -8.1225],\n",
       "       [  5.5775],\n",
       "       [  3.2775],\n",
       "       [ -6.4225],\n",
       "       [ -4.3225],\n",
       "       [ -1.2225],\n",
       "       [ 11.4775],\n",
       "       [ -0.6225]])"
      ]
     },
     "execution_count": 22,
     "metadata": {},
     "output_type": "execute_result"
    }
   ],
   "source": [
    "Y-y_mean"
   ]
  },
  {
   "cell_type": "code",
   "execution_count": 23,
   "id": "ff94afdc",
   "metadata": {},
   "outputs": [
    {
     "data": {
      "text/plain": [
       "5417.14875"
      ]
     },
     "execution_count": 23,
     "metadata": {},
     "output_type": "execute_result"
    }
   ],
   "source": [
    "SST=np.sum((Y-y_mean)**2)\n",
    "SST"
   ]
  },
  {
   "cell_type": "code",
   "execution_count": 24,
   "id": "82cb335d",
   "metadata": {},
   "outputs": [
    {
     "data": {
      "image/png": "[encoded data removed]",
      "text/plain": [
       "<Figure size 432x288 with 1 Axes>"
      ]
     },
     "metadata": {
      "needs_background": "light"
     },
     "output_type": "display_data"
    }
   ],
   "source": [
    "fig = plt.figure()\n",
    "ax = plt.axes(projection='3d')\n",
    "ax.scatter3D(x1, x2, y_pred);\n",
    "ax.set_xlabel('x1')\n",
    "ax.set_ylabel('x2')\n",
    "ax.set_zlabel('y_pred');"
   ]
  },
  {
   "cell_type": "code",
   "execution_count": 25,
   "id": "d17ec622",
   "metadata": {},
   "outputs": [],
   "source": [
    "a = np.column_stack((x0,x1))\n",
    "b = np.column_stack((x0,x2))\n",
    "c = np.column_stack((x0,y))"
   ]
  },
  {
   "cell_type": "code",
   "execution_count": 26,
   "id": "fd92c158",
   "metadata": {},
   "outputs": [
    {
     "data": {
      "text/plain": [
       "[Text(0.5, 0, 'x1'), Text(0.5, 0, 'x2'), Text(0.5, 0, 'y')]"
      ]
     },
     "execution_count": 26,
     "metadata": {},
     "output_type": "execute_result"
    },
    {
     "data": {
      "image/png": "[encoded data removed]",
      "text/plain": [
       "<Figure size 432x288 with 1 Axes>"
      ]
     },
     "metadata": {
      "needs_background": "light"
     },
     "output_type": "display_data"
    }
   ],
   "source": [
    "fig = plt.figure(num=1, clear=True)\n",
    "ax = fig.add_subplot(1, 1, 1, projection='3d')\n",
    "ax.plot_surface(a, b, c)\n",
    "ax.scatter3D(x1, x2, Y,color='orange');\n",
    "ax.set(xlabel='x1', ylabel='x2', zlabel='y')"
   ]
  },
  {
   "cell_type": "code",
   "execution_count": 27,
   "id": "b42b5303",
   "metadata": {},
   "outputs": [
    {
     "data": {
      "text/plain": [
       "0.8972106381789522"
      ]
     },
     "execution_count": 27,
     "metadata": {},
     "output_type": "execute_result"
    }
   ],
   "source": [
    "R2=1-(RSS/SST)\n",
    "R2"
   ]
  },
  {
   "cell_type": "code",
   "execution_count": null,
   "id": "88dd3d28",
   "metadata": {},
   "outputs": [],
   "source": []
  }
 ],
 "metadata": {
  "kernelspec": {
   "display_name": "Python 3",
   "language": "python",
   "name": "python3"
  },
  "language_info": {
   "codemirror_mode": {
    "name": "ipython",
    "version": 3
   },
   "file_extension": ".py",
   "mimetype": "text/x-python",
   "name": "python",
   "nbconvert_exporter": "python",
   "pygments_lexer": "ipython3",
   "version": "3.8.8"
  }
 },
 "nbformat": 4,
 "nbformat_minor": 5
}
