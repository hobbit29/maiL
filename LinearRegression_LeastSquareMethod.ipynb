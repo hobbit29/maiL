{
 "cells": [
  {
   "cell_type": "code",
   "execution_count": 1,
   "id": "cfa65baf",
   "metadata": {},
   "outputs": [],
   "source": [
    "from sklearn.datasets import make_regression\n",
    "from matplotlib import pyplot as plt\n",
    "import numpy as np\n",
    "from sklearn.linear_model import LinearRegression"
   ]
  },
  {
   "cell_type": "code",
   "execution_count": 2,
   "id": "3670339b",
   "metadata": {},
   "outputs": [],
   "source": [
    "X, y, coefficients = make_regression(\n",
    "    n_samples=50,\n",
    "    n_features=1,\n",
    "    n_informative=1,\n",
    "    n_targets=1,\n",
    "    noise=5,\n",
    "    coef=True,\n",
    "    random_state=1\n",
    ")"
   ]
  },
  {
   "cell_type": "code",
   "execution_count": 3,
   "id": "5ad78c09",
   "metadata": {},
   "outputs": [],
   "source": [
    "n = X.shape[1]\n",
    "r = np.linalg.matrix_rank(X)"
   ]
  },
  {
   "cell_type": "code",
   "execution_count": 4,
   "id": "26f04792",
   "metadata": {},
   "outputs": [],
   "source": [
    "U, sigma, VT = np.linalg.svd(X, full_matrices=False)"
   ]
  },
  {
   "cell_type": "code",
   "execution_count": 5,
   "id": "cb6ba006",
   "metadata": {},
   "outputs": [],
   "source": [
    "D_plus = np.diag(np.hstack([1/sigma[:r], np.zeros(n-r)]))"
   ]
  },
  {
   "cell_type": "code",
   "execution_count": 6,
   "id": "d23c668c",
   "metadata": {},
   "outputs": [],
   "source": [
    "V = VT.T"
   ]
  },
  {
   "cell_type": "code",
   "execution_count": 7,
   "id": "b59f4d20",
   "metadata": {},
   "outputs": [],
   "source": [
    "X_plus = V.dot(D_plus).dot(U.T)"
   ]
  },
  {
   "cell_type": "code",
   "execution_count": 8,
   "id": "6a5761a1",
   "metadata": {},
   "outputs": [],
   "source": [
    "w = X_plus.dot(y)"
   ]
  },
  {
   "cell_type": "code",
   "execution_count": 9,
   "id": "cd8ceef0",
   "metadata": {},
   "outputs": [],
   "source": [
    "error = np.linalg.norm(X.dot(w) - y, ord=2) ** 2"
   ]
  },
  {
   "cell_type": "code",
   "execution_count": 10,
   "id": "fdf10e7b",
   "metadata": {},
   "outputs": [
    {
     "name": "stderr",
     "output_type": "stream",
     "text": [
      "<ipython-input-10-4dff74329d00>:1: FutureWarning: `rcond` parameter will change to the default of machine precision times ``max(M, N)`` where M and N are the input matrix dimensions.\n",
      "To use the future default and silence this warning we advise to pass `rcond=None`, to keep using the old, explicitly pass `rcond=-1`.\n",
      "  np.linalg.lstsq(X, y)\n"
     ]
    },
    {
     "data": {
      "text/plain": [
       "(array([89.22901347]), array([888.96370014]), 1, array([6.85840501]))"
      ]
     },
     "execution_count": 10,
     "metadata": {},
     "output_type": "execute_result"
    }
   ],
   "source": [
    "np.linalg.lstsq(X, y)"
   ]
  },
  {
   "cell_type": "code",
   "execution_count": 11,
   "id": "9b23aaa7",
   "metadata": {},
   "outputs": [
    {
     "data": {
      "text/plain": [
       "[<matplotlib.lines.Line2D at 0x222d1ba8130>]"
      ]
     },
     "execution_count": 11,
     "metadata": {},
     "output_type": "execute_result"
    },
    {
     "data": {
      "image/png": "[encoded data removed]",
      "text/plain": [
       "<Figure size 432x288 with 1 Axes>"
      ]
     },
     "metadata": {
      "needs_background": "light"
     },
     "output_type": "display_data"
    }
   ],
   "source": [
    "plt.scatter(X, y)\n",
    "plt.plot(X, w*X, c='orange')"
   ]
  },
  {
   "cell_type": "code",
   "execution_count": 12,
   "id": "46cbc4b9",
   "metadata": {},
   "outputs": [],
   "source": [
    "lr = LinearRegression()\n",
    "lr.fit(X, y)\n",
    "w = lr.coef_[0]"
   ]
  },
  {
   "cell_type": "code",
   "execution_count": 14,
   "id": "48a182d4",
   "metadata": {},
   "outputs": [
    {
     "data": {
      "text/plain": [
       "[<matplotlib.lines.Line2D at 0x222d2cc6af0>]"
      ]
     },
     "execution_count": 14,
     "metadata": {},
     "output_type": "execute_result"
    },
    {
     "data": {
      "image/png": "[encoded data removed]",
      "text/plain": [
       "<Figure size 432x288 with 1 Axes>"
      ]
     },
     "metadata": {
      "needs_background": "light"
     },
     "output_type": "display_data"
    }
   ],
   "source": [
    "plt.scatter(X, y)\n",
    "plt.plot(X, w*X, c='orange')"
   ]
  },
  {
   "cell_type": "code",
   "execution_count": null,
   "id": "32aad88c",
   "metadata": {},
   "outputs": [],
   "source": []
  }
 ],
 "metadata": {
  "kernelspec": {
   "display_name": "Python 3",
   "language": "python",
   "name": "python3"
  },
  "language_info": {
   "codemirror_mode": {
    "name": "ipython",
    "version": 3
   },
   "file_extension": ".py",
   "mimetype": "text/x-python",
   "name": "python",
   "nbconvert_exporter": "python",
   "pygments_lexer": "ipython3",
   "version": "3.8.8"
  }
 },
 "nbformat": 4,
 "nbformat_minor": 5
}
