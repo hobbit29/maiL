{
 "cells": [
  {
   "cell_type": "markdown",
   "id": "7c52026c",
   "metadata": {},
   "source": [
    "# Q1:Write a python program which takes a number input from user and check if that is Armstrong number or not."
   ]
  },
  {
   "cell_type": "code",
   "execution_count": 1,
   "id": "6b4fecac",
   "metadata": {
    "scrolled": true
   },
   "outputs": [
    {
     "name": "stdout",
     "output_type": "stream",
     "text": [
      "Enter a number to check whether it's an armstrong no: 370\n",
      "370  is an armstrong number.\n"
     ]
    }
   ],
   "source": [
    "inp=int(input(\"Enter a number to check whether it's an armstrong no: \"))\n",
    "s=0\n",
    "tmp=inp\n",
    "while tmp>0:\n",
    "    digit=tmp%10\n",
    "    s+=digit**3\n",
    "    tmp//=10\n",
    "if inp==s:\n",
    "    print(inp,\" is an armstrong number.\")\n",
    "else:\n",
    "    print(inp,\" isn't an armstrong number.\")"
   ]
  },
  {
   "cell_type": "markdown",
   "id": "27a799da",
   "metadata": {},
   "source": [
    "# Q2: Write a python program which takes a number input from user and print all prime numbers from 2 till that number."
   ]
  },
  {
   "cell_type": "code",
   "execution_count": 2,
   "id": "90ac070b",
   "metadata": {},
   "outputs": [
    {
     "name": "stdout",
     "output_type": "stream",
     "text": [
      "Enter a number: 13\n",
      "2\n",
      "3\n",
      "5\n",
      "7\n",
      "11\n",
      "13\n"
     ]
    }
   ],
   "source": [
    "n=int(input(\"Enter a number: \"))\n",
    "for num in range(0, n+1):\n",
    "   \n",
    "   if num > 1:\n",
    "    for i in range(2, num):\n",
    "           if (num % i) == 0:\n",
    "            break\n",
    "    else:\n",
    "           print(num)"
   ]
  },
  {
   "cell_type": "markdown",
   "id": "fc6f7be0",
   "metadata": {},
   "source": [
    "# Q3: Write a python program which takes a string input from user and check if that is palindrome or not."
   ]
  },
  {
   "cell_type": "code",
   "execution_count": 3,
   "id": "92fbac09",
   "metadata": {},
   "outputs": [
    {
     "name": "stdout",
     "output_type": "stream",
     "text": [
      "enter a string: 23432\n",
      "yes\n"
     ]
    }
   ],
   "source": [
    "def isPalindrome(str):\n",
    "    for i in range(0, int(len(str)/2)):\n",
    "        if str[i]!=str[len(str)-i-1]:\n",
    "            return False\n",
    "    return True\n",
    "s=input(\"enter a string: \")\n",
    "ans=isPalindrome(s)\n",
    "if (ans):\n",
    "    print(\"yes\")\n",
    "else:\n",
    "    print(\"no\")   "
   ]
  },
  {
   "cell_type": "markdown",
   "id": "b43fe916",
   "metadata": {},
   "source": [
    "# Q4.Perform elementary mathematical operations in Python like addition, multiplication, division and exponentiation. "
   ]
  },
  {
   "cell_type": "code",
   "execution_count": 1,
   "id": "aaf745e2",
   "metadata": {},
   "outputs": [
    {
     "name": "stdout",
     "output_type": "stream",
     "text": [
      "Enter First number: 50\n",
      "Enter Second number 25\n",
      "Sum of  50 and 25 is : 75\n",
      "Difference of  50 and 25 is : 25\n",
      "Product of 50 and 25 is : 1250\n",
      "Division of  50 and 25 is : 2.0\n",
      "Floor Division of  50 and 25 is : 2\n",
      "Exponent of  50 and 25 is : 2980232238769531250000000000000000000000000\n",
      "Modulus of  50 and 25 is : 0\n"
     ]
    }
   ],
   "source": [
    "num1 = int(input('Enter First number: '))\n",
    "num2 = int(input('Enter Second number '))\n",
    "add = num1 + num2\n",
    "dif = num1 - num2\n",
    "mul = num1 * num2\n",
    "div = num1 / num2\n",
    "floor_div = num1 // num2\n",
    "power = num1 ** num2\n",
    "modulus = num1 % num2\n",
    "print('Sum of ',num1 ,'and' ,num2 ,'is :',add)\n",
    "print('Difference of ',num1 ,'and' ,num2 ,'is :',dif)\n",
    "print('Product of' ,num1 ,'and' ,num2 ,'is :',mul)\n",
    "print('Division of ',num1 ,'and' ,num2 ,'is :',div)\n",
    "print('Floor Division of ',num1 ,'and' ,num2 ,'is :',floor_div)\n",
    "print('Exponent of ',num1 ,'and' ,num2 ,'is :',power)\n",
    "print('Modulus of ',num1 ,'and' ,num2 ,'is :',modulus)"
   ]
  },
  {
   "cell_type": "markdown",
   "id": "a4d47e1c",
   "metadata": {},
   "source": [
    "# Q5: Perform elementary logical operations in Python (like OR, AND, Checking for Equality, NOT, XOR)."
   ]
  },
  {
   "cell_type": "code",
   "execution_count": 2,
   "id": "792c8ec7",
   "metadata": {},
   "outputs": [
    {
     "name": "stdout",
     "output_type": "stream",
     "text": [
      "Enter first number: 10\n",
      "Enter second number: 4\n",
      "AND OPERATOR a&b = 0\n",
      "OR OPERATOR a|b = 14\n",
      "NOT OPERATOR ~a = -11\n",
      "XOR OPERATOR a^b = 14\n"
     ]
    }
   ],
   "source": [
    "a=int(input(\"Enter first number: \"))\n",
    "b=int(input(\"Enter second number: \"))\n",
    "print(\"AND OPERATOR a&b =\", a&b)\n",
    "print(\"OR OPERATOR a|b =\", a|b)\n",
    "print(\"NOT OPERATOR ~a =\", ~a)\n",
    "print(\"XOR OPERATOR a^b =\", a^b)\n"
   ]
  },
  {
   "cell_type": "markdown",
   "id": "540809a0",
   "metadata": {},
   "source": [
    "# Q6: Create, initialize and display simple variables and simple strings and use simple formatting for variable."
   ]
  },
  {
   "cell_type": "code",
   "execution_count": 6,
   "id": "5daa85fa",
   "metadata": {},
   "outputs": [
    {
     "name": "stdout",
     "output_type": "stream",
     "text": [
      "Misha walked and looked around\n",
      "~~~~~~~~~~~~~~~~~~~~~~~~~~~~~~~~~~~~~~~~~~~~~~~~\n",
      "Joe stood up and spoke to the crowd.\n",
      "There are 4 dogs.\n",
      "~~~~~~~~~~~~~~~~~~~~~~~~~~~~~~~~~~~~~~~~~~~~~~~~\n",
      "John is 23 years old.\n"
     ]
    }
   ],
   "source": [
    "x = 'looked'\n",
    "print(\"Misha %s and %s around\"%('walked',x))\n",
    "print(\"~~~~~~~~~~~~~~~~~~~~~~~~~~~~~~~~~~~~~~~~~~~~~~~~\")\n",
    "print('Joe stood up and %s to the crowd.' %'spoke')\n",
    "print('There are %d dogs.' %4)\n",
    "print(\"~~~~~~~~~~~~~~~~~~~~~~~~~~~~~~~~~~~~~~~~~~~~~~~~\")\n",
    "name = \"John\"\n",
    "age = 23\n",
    "print(\"%s is %d years old.\" % (name, age))"
   ]
  },
  {
   "cell_type": "markdown",
   "id": "76dbd582",
   "metadata": {},
   "source": [
    "# Q7: Use conditional statements and different type of loops based on simple example/s.\n",
    "(Perform matrix multiplication using nested loops).\n"
   ]
  },
  {
   "cell_type": "code",
   "execution_count": 7,
   "id": "72a0914d",
   "metadata": {},
   "outputs": [
    {
     "name": "stdout",
     "output_type": "stream",
     "text": [
      "Enter the number of rows for A:2\n",
      "Enter the number of columns for A:2\n",
      "Enter the entries rowwise for A:\n",
      "1\n",
      "1\n",
      "1\n",
      "1\n",
      "Enter the number of rows for B:2\n",
      "Enter the number of columns for B:2\n",
      "Enter the entries rowwise for B:\n",
      "2\n",
      "3\n",
      "2\n",
      "4\n",
      "matrix A: [[1 1 ]\n",
      "[1 1 ]\n",
      "]\n",
      "matrix B: [[2 3 ]\n",
      "[2 4 ]\n",
      "]\n",
      "Result: [\n",
      "[4, 7, 0, 0]\n",
      "[4, 7, 0, 0]\n",
      "[0, 0, 0, 0]\n",
      "]\n"
     ]
    }
   ],
   "source": [
    "R = int(input(\"Enter the number of rows for A:\"))\n",
    "C = int(input(\"Enter the number of columns for A:\"))\n",
    "  \n",
    "# Initialize matrix\n",
    "A= []\n",
    "print(\"Enter the entries rowwise for A:\")\n",
    "  \n",
    "# For user input\n",
    "for i in range(R):          # A for loop for row entries\n",
    "    a =[]\n",
    "    for j in range(C):      # A for loop for column entries\n",
    "         a.append(int(input()))\n",
    "    A.append(a)\n",
    "row = int(input(\"Enter the number of rows for B:\"))\n",
    "col = int(input(\"Enter the number of columns for B:\"))\n",
    "print(\"Enter the entries rowwise for B:\")\n",
    "B=[]\n",
    "\n",
    "# For user input\n",
    "for i in range(row):          # A for loop for row entries\n",
    "    a =[]\n",
    "    for j in range(col):      # A for loop for column entries\n",
    "         a.append(int(input()))\n",
    "    B.append(a)  \n",
    "# For printing the matrix\n",
    "print(\"matrix A: [\",end=\"\")\n",
    "for i in range(R):\n",
    "    print(\"[\",end=\"\")\n",
    "    for j in range(C):\n",
    "        print(A[i][j], end = \" \")\n",
    "    print(\"]\")\n",
    "print(\"]\")\n",
    "print(\"matrix B: [\",end=\"\")\n",
    "for i in range(row):\n",
    "    print(\"[\",end=\"\")\n",
    "    for j in range(col):\n",
    "        print(B[i][j], end = \" \")\n",
    "    print(\"]\")\n",
    "print(\"]\")\n",
    "result = [[0, 0, 0, 0],\n",
    "        [0, 0, 0, 0],\n",
    "        [0, 0, 0, 0]]   \n",
    "for i in range(len(A)):\n",
    " \n",
    "    # iterating by column by B\n",
    "    for j in range(len(B[0])):\n",
    " \n",
    "        # iterating by rows of B\n",
    "        for k in range(len(B)):\n",
    "            result[i][j] += A[i][k] * B[k][j]\n",
    "print(\"Result: [\")\n",
    "for r in result:\n",
    "    print(r)\n",
    "print(\"]\")"
   ]
  }
 ],
 "metadata": {
  "kernelspec": {
   "display_name": "Python 3",
   "language": "python",
   "name": "python3"
  },
  "language_info": {
   "codemirror_mode": {
    "name": "ipython",
    "version": 3
   },
   "file_extension": ".py",
   "mimetype": "text/x-python",
   "name": "python",
   "nbconvert_exporter": "python",
   "pygments_lexer": "ipython3",
   "version": "3.8.8"
  }
 },
 "nbformat": 4,
 "nbformat_minor": 5
}
