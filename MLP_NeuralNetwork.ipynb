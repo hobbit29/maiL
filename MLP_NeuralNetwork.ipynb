{
 "cells": [
  {
   "cell_type": "code",
   "execution_count": 8,
   "id": "5b28f92f",
   "metadata": {},
   "outputs": [],
   "source": [
    "from numpy import*\n",
    "import pandas as pd \n",
    "from sklearn.neural_network import MLPClassifier\n",
    "from sklearn.model_selection import train_test_split"
   ]
  },
  {
   "cell_type": "code",
   "execution_count": 9,
   "id": "6429a3cc",
   "metadata": {},
   "outputs": [
    {
     "data": {
      "text/html": [
       "<div>\n",
       "<style scoped>\n",
       "    .dataframe tbody tr th:only-of-type {\n",
       "        vertical-align: middle;\n",
       "    }\n",
       "\n",
       "    .dataframe tbody tr th {\n",
       "        vertical-align: top;\n",
       "    }\n",
       "\n",
       "    .dataframe thead th {\n",
       "        text-align: right;\n",
       "    }\n",
       "</style>\n",
       "<table border=\"1\" class=\"dataframe\">\n",
       "  <thead>\n",
       "    <tr style=\"text-align: right;\">\n",
       "      <th></th>\n",
       "      <th>Pregnancies</th>\n",
       "      <th>Glucose</th>\n",
       "      <th>BloodPressure</th>\n",
       "      <th>SkinThickness</th>\n",
       "      <th>Insulin</th>\n",
       "      <th>BMI</th>\n",
       "      <th>DiabetesPedigreeFunction</th>\n",
       "      <th>Age</th>\n",
       "      <th>Outcome</th>\n",
       "    </tr>\n",
       "  </thead>\n",
       "  <tbody>\n",
       "    <tr>\n",
       "      <th>0</th>\n",
       "      <td>6</td>\n",
       "      <td>148</td>\n",
       "      <td>72</td>\n",
       "      <td>35</td>\n",
       "      <td>0</td>\n",
       "      <td>33.6</td>\n",
       "      <td>0.627</td>\n",
       "      <td>50</td>\n",
       "      <td>1</td>\n",
       "    </tr>\n",
       "    <tr>\n",
       "      <th>1</th>\n",
       "      <td>1</td>\n",
       "      <td>85</td>\n",
       "      <td>66</td>\n",
       "      <td>29</td>\n",
       "      <td>0</td>\n",
       "      <td>26.6</td>\n",
       "      <td>0.351</td>\n",
       "      <td>31</td>\n",
       "      <td>0</td>\n",
       "    </tr>\n",
       "    <tr>\n",
       "      <th>2</th>\n",
       "      <td>8</td>\n",
       "      <td>183</td>\n",
       "      <td>64</td>\n",
       "      <td>0</td>\n",
       "      <td>0</td>\n",
       "      <td>23.3</td>\n",
       "      <td>0.672</td>\n",
       "      <td>32</td>\n",
       "      <td>1</td>\n",
       "    </tr>\n",
       "    <tr>\n",
       "      <th>3</th>\n",
       "      <td>1</td>\n",
       "      <td>89</td>\n",
       "      <td>66</td>\n",
       "      <td>23</td>\n",
       "      <td>94</td>\n",
       "      <td>28.1</td>\n",
       "      <td>0.167</td>\n",
       "      <td>21</td>\n",
       "      <td>0</td>\n",
       "    </tr>\n",
       "    <tr>\n",
       "      <th>4</th>\n",
       "      <td>0</td>\n",
       "      <td>137</td>\n",
       "      <td>40</td>\n",
       "      <td>35</td>\n",
       "      <td>168</td>\n",
       "      <td>43.1</td>\n",
       "      <td>2.288</td>\n",
       "      <td>33</td>\n",
       "      <td>1</td>\n",
       "    </tr>\n",
       "  </tbody>\n",
       "</table>\n",
       "</div>"
      ],
      "text/plain": [
       "   Pregnancies  Glucose  BloodPressure  SkinThickness  Insulin   BMI  \\\n",
       "0            6      148             72             35        0  33.6   \n",
       "1            1       85             66             29        0  26.6   \n",
       "2            8      183             64              0        0  23.3   \n",
       "3            1       89             66             23       94  28.1   \n",
       "4            0      137             40             35      168  43.1   \n",
       "\n",
       "   DiabetesPedigreeFunction  Age  Outcome  \n",
       "0                     0.627   50        1  \n",
       "1                     0.351   31        0  \n",
       "2                     0.672   32        1  \n",
       "3                     0.167   21        0  \n",
       "4                     2.288   33        1  "
      ]
     },
     "execution_count": 9,
     "metadata": {},
     "output_type": "execute_result"
    }
   ],
   "source": [
    "df= pd.read_csv(r\"diabetes.csv\")\n",
    "df.head()"
   ]
  },
  {
   "cell_type": "code",
   "execution_count": 3,
   "id": "0595097e",
   "metadata": {},
   "outputs": [
    {
     "data": {
      "text/plain": [
       "array([1, 1, 0, 0, 1, 1, 1, 1, 0, 1, 0, 1, 1, 1, 1, 1, 1, 1, 1, 1, 1, 1,\n",
       "       0, 1, 1, 0, 1, 1, 1, 1, 1, 1, 1, 1, 1, 0, 1, 0, 0, 0, 0, 1, 0, 1,\n",
       "       1, 1, 1, 0, 1, 0, 0, 1, 1, 1, 1, 1, 0, 1, 1, 0, 1, 1, 1, 1, 1, 1,\n",
       "       1, 1, 0, 0, 1, 1, 1, 0, 1, 0, 0, 1, 1, 1, 1, 0, 0, 1, 1, 1, 1, 1,\n",
       "       0, 1, 1, 0, 1, 0, 0, 1, 0, 1, 1, 1, 1, 0, 0, 1, 1, 1, 1, 1, 1, 0,\n",
       "       1, 0, 0, 1])"
      ]
     },
     "execution_count": 3,
     "metadata": {},
     "output_type": "execute_result"
    }
   ],
   "source": [
    "X_train, X_test, y_train, y_test = train_test_split(df.data,df.target,test_size=0.2,random_state=4)\n",
    "y_test"
   ]
  },
  {
   "cell_type": "code",
   "execution_count": 17,
   "id": "78af89a3",
   "metadata": {},
   "outputs": [],
   "source": [
    "nn=MLPClassifier(activation='logistic', hidden_layer_sizes=(10,10,10), random_state=5, verbose=True, solver='sgd',learning_rate_init=0.001)"
   ]
  },
  {
   "cell_type": "code",
   "execution_count": 18,
   "id": "2b845506",
   "metadata": {},
   "outputs": [
    {
     "name": "stdout",
     "output_type": "stream",
     "text": [
      "Iteration 1, loss = 0.77436045\n",
      "Iteration 2, loss = 0.77261344\n",
      "Iteration 3, loss = 0.77005603\n",
      "Iteration 4, loss = 0.76670376\n",
      "Iteration 5, loss = 0.76313741\n",
      "Iteration 6, loss = 0.75946367\n",
      "Iteration 7, loss = 0.75548664\n",
      "Iteration 8, loss = 0.75177964\n",
      "Iteration 9, loss = 0.74773694\n",
      "Iteration 10, loss = 0.74373499\n",
      "Iteration 11, loss = 0.74007068\n",
      "Iteration 12, loss = 0.73634304\n",
      "Iteration 13, loss = 0.73300836\n",
      "Iteration 14, loss = 0.72968770\n",
      "Iteration 15, loss = 0.72666816\n",
      "Iteration 16, loss = 0.72369234\n",
      "Iteration 17, loss = 0.72092516\n",
      "Iteration 18, loss = 0.71824732\n",
      "Iteration 19, loss = 0.71576209\n",
      "Iteration 20, loss = 0.71321287\n",
      "Iteration 21, loss = 0.71097007\n",
      "Iteration 22, loss = 0.70878143\n",
      "Iteration 23, loss = 0.70669631\n",
      "Iteration 24, loss = 0.70467089\n",
      "Iteration 25, loss = 0.70265839\n",
      "Iteration 26, loss = 0.70092470\n",
      "Iteration 27, loss = 0.69925590\n",
      "Iteration 28, loss = 0.69762680\n",
      "Iteration 29, loss = 0.69614321\n",
      "Iteration 30, loss = 0.69478994\n",
      "Iteration 31, loss = 0.69342783\n",
      "Iteration 32, loss = 0.69221105\n",
      "Iteration 33, loss = 0.69105594\n",
      "Iteration 34, loss = 0.68991554\n",
      "Iteration 35, loss = 0.68895502\n",
      "Iteration 36, loss = 0.68789967\n",
      "Iteration 37, loss = 0.68704223\n",
      "Iteration 38, loss = 0.68608628\n",
      "Iteration 39, loss = 0.68524607\n",
      "Iteration 40, loss = 0.68449666\n",
      "Iteration 41, loss = 0.68374270\n",
      "Iteration 42, loss = 0.68307158\n",
      "Iteration 43, loss = 0.68239935\n",
      "Iteration 44, loss = 0.68178181\n",
      "Iteration 45, loss = 0.68115709\n",
      "Iteration 46, loss = 0.68052459\n",
      "Iteration 47, loss = 0.68003687\n",
      "Iteration 48, loss = 0.67945547\n",
      "Iteration 49, loss = 0.67890628\n",
      "Iteration 50, loss = 0.67841748\n",
      "Iteration 51, loss = 0.67789722\n",
      "Iteration 52, loss = 0.67747634\n",
      "Iteration 53, loss = 0.67714550\n",
      "Iteration 54, loss = 0.67665190\n",
      "Iteration 55, loss = 0.67632437\n",
      "Iteration 56, loss = 0.67589491\n",
      "Iteration 57, loss = 0.67551039\n",
      "Iteration 58, loss = 0.67524643\n",
      "Iteration 59, loss = 0.67489117\n",
      "Iteration 60, loss = 0.67452865\n",
      "Iteration 61, loss = 0.67429446\n",
      "Iteration 62, loss = 0.67399618\n",
      "Iteration 63, loss = 0.67378802\n",
      "Iteration 64, loss = 0.67355437\n",
      "Iteration 65, loss = 0.67333837\n",
      "Iteration 66, loss = 0.67314791\n",
      "Iteration 67, loss = 0.67293854\n",
      "Iteration 68, loss = 0.67271400\n",
      "Iteration 69, loss = 0.67254950\n",
      "Iteration 70, loss = 0.67239296\n",
      "Iteration 71, loss = 0.67220188\n",
      "Iteration 72, loss = 0.67205415\n",
      "Iteration 73, loss = 0.67194269\n",
      "Iteration 74, loss = 0.67178188\n",
      "Iteration 75, loss = 0.67168889\n",
      "Iteration 76, loss = 0.67157785\n",
      "Iteration 77, loss = 0.67146525\n",
      "Iteration 78, loss = 0.67138709\n",
      "Iteration 79, loss = 0.67130010\n",
      "Iteration 80, loss = 0.67121162\n",
      "Iteration 81, loss = 0.67113066\n",
      "Iteration 82, loss = 0.67103688\n",
      "Iteration 83, loss = 0.67096196\n",
      "Iteration 84, loss = 0.67088395\n",
      "Iteration 85, loss = 0.67079383\n",
      "Iteration 86, loss = 0.67070768\n",
      "Iteration 87, loss = 0.67061758\n",
      "Iteration 88, loss = 0.67053947\n",
      "Training loss did not improve more than tol=0.000100 for 10 consecutive epochs. Stopping.\n"
     ]
    },
    {
     "data": {
      "text/plain": [
       "MLPClassifier(activation='logistic', hidden_layer_sizes=(10, 10, 10),\n",
       "              random_state=5, solver='sgd', verbose=True)"
      ]
     },
     "execution_count": 18,
     "metadata": {},
     "output_type": "execute_result"
    }
   ],
   "source": [
    "nn.fit(X_train,y_train)"
   ]
  },
  {
   "cell_type": "code",
   "execution_count": 19,
   "id": "a2d89876",
   "metadata": {},
   "outputs": [
    {
     "data": {
      "text/plain": [
       "array([1, 1, 1, 1, 1, 1, 1, 1, 1, 1, 1, 1, 1, 1, 1, 1, 1, 1, 1, 1, 1, 1,\n",
       "       1, 1, 1, 1, 1, 1, 1, 1, 1, 1, 1, 1, 1, 1, 1, 1, 1, 1, 1, 1, 1, 1,\n",
       "       1, 1, 1, 1, 1, 1, 1, 1, 1, 1, 1, 1, 1, 1, 1, 1, 1, 1, 1, 1, 1, 1,\n",
       "       1, 1, 1, 1, 1, 1, 1, 1, 1, 1, 1, 1, 1, 1, 1, 1, 1, 1, 1, 1, 1, 1,\n",
       "       1, 1, 1, 1, 1, 1, 1, 1, 1, 1, 1, 1, 1, 1, 1, 1, 1, 1, 1, 1, 1, 1,\n",
       "       1, 1, 1, 1])"
      ]
     },
     "execution_count": 19,
     "metadata": {},
     "output_type": "execute_result"
    }
   ],
   "source": [
    "pred=nn.predict(X_test)\n",
    "pred"
   ]
  },
  {
   "cell_type": "code",
   "execution_count": 20,
   "id": "d2130491",
   "metadata": {},
   "outputs": [
    {
     "data": {
      "text/plain": [
       "0.7017543859649122"
      ]
     },
     "execution_count": 20,
     "metadata": {},
     "output_type": "execute_result"
    }
   ],
   "source": [
    "from sklearn.metrics import accuracy_score\n",
    "accuracy_score(y_test,pred)"
   ]
  },
  {
   "cell_type": "code",
   "execution_count": null,
   "id": "02ba28a2",
   "metadata": {},
   "outputs": [],
   "source": []
  }
 ],
 "metadata": {
  "kernelspec": {
   "display_name": "Python 3",
   "language": "python",
   "name": "python3"
  },
  "language_info": {
   "codemirror_mode": {
    "name": "ipython",
    "version": 3
   },
   "file_extension": ".py",
   "mimetype": "text/x-python",
   "name": "python",
   "nbconvert_exporter": "python",
   "pygments_lexer": "ipython3",
   "version": "3.8.8"
  }
 },
 "nbformat": 4,
 "nbformat_minor": 5
}
